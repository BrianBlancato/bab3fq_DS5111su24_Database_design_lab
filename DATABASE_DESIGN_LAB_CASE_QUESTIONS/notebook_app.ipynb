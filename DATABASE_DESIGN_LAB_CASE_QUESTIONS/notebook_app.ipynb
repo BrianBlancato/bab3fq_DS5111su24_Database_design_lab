{
 "metadata": {
  "kernelspec": {
   "display_name": "Streamlit Notebook",
   "name": "streamlit"
  }
 },
 "nbformat_minor": 5,
 "nbformat": 4,
 "cells": [
  {
   "cell_type": "markdown",
   "id": "db511e64-5338-452a-9410-6683d534aaea",
   "metadata": {
    "name": "cell4",
    "collapsed": false
   },
   "source": "# **Lab 10: Database Design and Build - Case Questions**\n\n## Compute ID: bab3fq"
  },
  {
   "cell_type": "code",
   "id": "422fb657-651c-4625-a6ee-f229c1226dad",
   "metadata": {
    "language": "python",
    "name": "cell7",
    "collapsed": false
   },
   "outputs": [],
   "source": "# Import python packages\nimport streamlit as st\nimport pandas as pd\n\n# We can also use Snowpark for our analyses!\nfrom snowflake.snowpark.context import get_active_session\nsession = get_active_session()",
   "execution_count": null
  },
  {
   "cell_type": "markdown",
   "id": "26fd59d7-c3e1-4984-a39e-0d1b9f5ba98d",
   "metadata": {
    "name": "cell5",
    "collapsed": false
   },
   "source": "## **Case Question 1**\n### Which courses are currently included (active) in the program? Include the course mnemonic and course name for each. "
  },
  {
   "cell_type": "code",
   "id": "9b0ecd43-4dbb-4ae7-a35b-39706d59fd37",
   "metadata": {
    "language": "sql",
    "name": "cell6",
    "collapsed": false
   },
   "outputs": [],
   "source": "SELECT\nmnemonic,\ncourse_name\nFROM COURSES_ERD\nWHERE active = 'TRUE';",
   "execution_count": null
  },
  {
   "cell_type": "markdown",
   "id": "b5b37d97-87e1-4ac6-ad22-cb66933b547e",
   "metadata": {
    "name": "cell1",
    "collapsed": false
   },
   "source": "## Case Question 2\n### **Which courses were included in the program, but are no longer active? Include the course mnemonic and course name for each.**"
  },
  {
   "cell_type": "code",
   "id": "04d72aed-4b0b-48a9-a568-91a9585f3ebe",
   "metadata": {
    "language": "sql",
    "name": "cell2",
    "collapsed": false
   },
   "outputs": [],
   "source": "SELECT\nmnemonic,\ncourse_name\nFROM courses_erd\nWHERE active = 'FALSE';",
   "execution_count": null
  },
  {
   "cell_type": "markdown",
   "id": "0cbbced2-8dd4-4c89-828e-6abee18df279",
   "metadata": {
    "name": "cell3",
    "collapsed": false
   },
   "source": "## Case Question 3\n### **Which instructors are not current employees?**"
  },
  {
   "cell_type": "code",
   "id": "2babed9e-214b-444a-984f-986dccb63ad3",
   "metadata": {
    "language": "sql",
    "name": "cell8",
    "collapsed": false
   },
   "outputs": [],
   "source": "SELECT\ninstructor_name\nFROM instructors_erd\nWHERE active = 'FALSE';",
   "execution_count": null
  },
  {
   "cell_type": "markdown",
   "id": "579fe1b5-0905-40cf-8c25-df504e438c53",
   "metadata": {
    "name": "cell9",
    "collapsed": false
   },
   "source": "## Case Question 4\n### **For each course (active and inactive), how many learning outcomes are there?**"
  },
  {
   "cell_type": "code",
   "id": "328ad4aa-4f6f-454f-9971-1b7bbca31744",
   "metadata": {
    "language": "sql",
    "name": "cell10",
    "collapsed": false
   },
   "outputs": [],
   "source": "SELECT\nc.course_name,\nCOUNT(DISTINCT lo.learning_outcome) AS Learning_Outcome_Count\nFROM LEARNING_OUTCOMES_ERD lo\nLEFT JOIN COURSES_ERD  c\nON lo.course_id = c.course_id\nGROUP BY c.course_name\nORDER BY Learning_Outcome_Count DESC;",
   "execution_count": null
  },
  {
   "cell_type": "markdown",
   "id": "b857b2bd-054d-4937-808d-937da2967707",
   "metadata": {
    "name": "cell11",
    "collapsed": false
   },
   "source": "## Case Question 5\n### **Are there any courses with no learning outcomes? If so, provide their mnemonics and names.**"
  },
  {
   "cell_type": "code",
   "id": "2678bf68-704a-44da-b097-59392821c9d9",
   "metadata": {
    "language": "sql",
    "name": "cell12",
    "collapsed": false
   },
   "outputs": [],
   "source": "SELECT\nc.mnemonic,\nc.course_name\nFROM COURSES_ERD c\nLEFT JOIN LEARNING_OUTCOMES_ERD lo\nON c.course_id = lo.course_id\nWHERE lo.course_id IS NULL;",
   "execution_count": null
  },
  {
   "cell_type": "markdown",
   "id": "f6696958-64c0-4965-aaae-21d8c7651713",
   "metadata": {
    "name": "cell13",
    "collapsed": false
   },
   "source": "## Case Question 6\n### **Which courses include SQL as a learning outcome? Include the learning outcome descriptions, course mnemonics, and course names in your solution.**"
  },
  {
   "cell_type": "code",
   "id": "9c26aa40-4c1d-436f-bf79-a6f44ec9352b",
   "metadata": {
    "language": "sql",
    "name": "cell14",
    "collapsed": false
   },
   "outputs": [],
   "source": "SELECT\nc.mnemonic,\nc.course_name,\nlo.learning_outcome\nFROM LEARNING_OUTCOMES_ERD lo\nLEFT JOIN COURSES_ERD  c\nON lo.course_id = c.course_id\nWHERE\nlo.learning_outcome LIKE '%SQL%';",
   "execution_count": null
  },
  {
   "cell_type": "markdown",
   "id": "ba2aef0e-f341-4e2d-bc0e-085cb9983a24",
   "metadata": {
    "name": "cell15",
    "collapsed": false
   },
   "source": "## Case Question 7\n### **Who taught course ds5100 in Summer 2021?**"
  },
  {
   "cell_type": "code",
   "id": "d9753107-7e16-4856-8a2d-441f4d0feaa8",
   "metadata": {
    "language": "sql",
    "name": "cell16",
    "collapsed": false
   },
   "outputs": [],
   "source": "SELECT\ni.instructor_name\nFROM COURSE_ASSIGNMENT_ERD ca\nLEFT JOIN instructors_erd i\nON ca.instructor_id = i.instructor_id\nLEFT JOIN courses_erd c\nON ca.course_id = c.course_id\nWHERE\nc.mnemonic = 'ds5100'\nAND ca.term = 'summer2021';",
   "execution_count": null
  },
  {
   "cell_type": "markdown",
   "id": "5ee2a36b-93d4-4d57-ad05-c4900f414fd8",
   "metadata": {
    "name": "cell17",
    "collapsed": false
   },
   "source": "## Case Question 8\n### **Which instructors taught in Fall 2021? Order their names alphabetically, making sure the names are unique.**"
  },
  {
   "cell_type": "code",
   "id": "d7f6a345-4a01-42e6-9f92-241b764c81d5",
   "metadata": {
    "language": "sql",
    "name": "cell18",
    "collapsed": false
   },
   "outputs": [],
   "source": "SELECT DISTINCT\ni.instructor_name\nFROM COURSE_ASSIGNMENT_ERD ca\nLEFT JOIN INSTRUCTORS_ERD i\nON ca.instructor_id = i.instructor_id\nWHERE ca.term = 'fall2021'\nORDER BY i.instructor_name;",
   "execution_count": null
  },
  {
   "cell_type": "markdown",
   "id": "595fe1bc-7071-4439-b3c8-9615de524594",
   "metadata": {
    "name": "cell19",
    "collapsed": false
   },
   "source": "## Case Question 9\n### **How many courses did each instructor teach in each term? Order your results by term and then instructor.**"
  },
  {
   "cell_type": "code",
   "id": "f0cb8418-7454-49df-b3b6-97411db86f97",
   "metadata": {
    "language": "sql",
    "name": "cell20",
    "collapsed": false
   },
   "outputs": [],
   "source": "SELECT\ni.instructor_name,\nca.term,\nCOUNT(ca.assignment_id) AS course_count\nFROM course_assignment_erd ca\nLEFT JOIN instructors_erd i\non ca.instructor_id = i.instructor_id\nGROUP BY ca.term, i.instructor_name\nORDER BY ca.term, instructor_name;",
   "execution_count": null
  },
  {
   "cell_type": "markdown",
   "id": "a031ae82-eca6-44fe-8468-577094b4d28b",
   "metadata": {
    "name": "cell21",
    "collapsed": false
   },
   "source": "## Case Question 10a\n## **Which courses had more than one instructor for the same term? Provide the mnemonic and term for each. Note this occurs in courses with multiple sections.**"
  },
  {
   "cell_type": "code",
   "id": "90251431-4bcb-4986-b8af-6bd3eb4f053f",
   "metadata": {
    "language": "sql",
    "name": "cell22",
    "collapsed": false
   },
   "outputs": [],
   "source": "SELECT\nc.mnemonic,\nca.term\nFROM course_assignment_erd ca\nLEFT JOIN courses_erd c\nON ca.course_id = c.course_id\nGROUP BY c.mnemonic, ca.term\nHAVING COUNT(DISTINCT ca.instructor_id) > 1\nORDER BY ca.term, c.mnemonic;",
   "execution_count": null
  },
  {
   "cell_type": "markdown",
   "id": "e50e64a8-ba23-419c-97fc-e875283f6ed7",
   "metadata": {
    "name": "cell23",
    "collapsed": false
   },
   "source": "## Case Question 10b\n### **For courses with multiple sections, provide the term, course mnemonic, and instructor name for each. Hint: You can use your result from 10a in a subquery or WITH clause.**"
  },
  {
   "cell_type": "code",
   "id": "2c497984-f318-45a8-9594-e4d7c11f1ab5",
   "metadata": {
    "language": "sql",
    "name": "cell24",
    "collapsed": false
   },
   "outputs": [],
   "source": "WITH courses_multiple_instructors AS (\n    SELECT\n    c.mnemonic,\n    ca.term,\n    ca.course_id\n    FROM course_assignment_erd ca\n    LEFT JOIN courses_erd c\n    ON ca.course_id = c.course_id\n    GROUP BY c.mnemonic, ca.term, ca.course_id\n    HAVING COUNT(DISTINCT ca.instructor_id) > 1\n)\nSELECT\ncmi.term,\ncmi.mnemonic,\ni.instructor_name\nFROM courses_multiple_instructors cmi\nLEFT JOIN COURSE_ASSIGNMENT_ERD ca\non cmi.course_id = ca.course_id\nAND cmi.term = ca.term\nLEFT JOIN INSTRUCTORS_ERD i\nON ca.instructor_id = i.instructor_id\nORDER BY cmi.term, cmi.mnemonic, i.instructor_name;",
   "execution_count": null
  },
  {
   "cell_type": "code",
   "id": "7bd7ee9a-ebe2-4d14-a6f4-014d5a61982b",
   "metadata": {
    "language": "python",
    "name": "cell25",
    "collapsed": false
   },
   "outputs": [],
   "source": "test_df = session.sql(\"\"\"\nSELECT \nmnemonic, \ncourse_name\nFROM courses_erd\nWHERE active = 'FALSE'\n\"\"\")\ntest_df",
   "execution_count": null
  },
  {
   "cell_type": "code",
   "id": "4d50291b-1e1c-439b-91f3-b99cac8f56cd",
   "metadata": {
    "language": "python",
    "name": "cell26",
    "collapsed": false
   },
   "outputs": [],
   "source": "import pandas as pd\n\ndata = [\n    ('CS101', 'Introduction to Computer Science'),\n    ('MATH201', 'Calculus I'),\n    ('BIO101', 'Biology I')\n]\n\n# Create a DataFrame from the sample data\ntest_df = pd.DataFrame(data, columns=['mnemonic', 'course_name'])\n\n# Show the DataFrame\nprint(test_df)",
   "execution_count": null
  }
 ]
}